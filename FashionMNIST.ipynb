{
  "nbformat": 4,
  "nbformat_minor": 0,
  "metadata": {
    "colab": {
      "provenance": [],
      "gpuType": "T4"
    },
    "kernelspec": {
      "name": "python3",
      "display_name": "Python 3"
    },
    "language_info": {
      "name": "python"
    },
    "accelerator": "GPU"
  },
  "cells": [
    {
      "cell_type": "markdown",
      "source": [
        "\n",
        "# Farnaz Zinnah\n",
        "**Homework 1 Question 3: FashionMNIST**\n",
        "**02/17/2025**\n",
        "\n"
      ],
      "metadata": {
        "id": "1N2CIZeKLTAQ"
      }
    },
    {
      "cell_type": "code",
      "execution_count": 1,
      "metadata": {
        "id": "IY7GhLRp9Ja5"
      },
      "outputs": [],
      "source": [
        "# torch and torchvision are used for building and training the neural network, as well as for loading the FashionMNIST dataset.\n",
        "import torch\n",
        "import torchvision\n",
        "import torchvision.transforms as transforms\n",
        "import matplotlib.pyplot as plt\n",
        "import torch.nn as nn\n",
        "import torch.optim as optim\n",
        "import numpy as np"
      ]
    },
    {
      "cell_type": "code",
      "source": [
        "a = np. random. rand (2,3)\n",
        "b = torch. from_numpy (a)\n",
        "print (a)\n",
        "print(b)"
      ],
      "metadata": {
        "colab": {
          "base_uri": "https://localhost:8080/"
        },
        "id": "-VwbSz8X-nem",
        "outputId": "a213882a-9305-4607-9cef-7d6d6706b722"
      },
      "execution_count": 2,
      "outputs": [
        {
          "output_type": "stream",
          "name": "stdout",
          "text": [
            "[[0.007063   0.33694318 0.10139107]\n",
            " [0.7454493  0.99969696 0.39900797]]\n",
            "tensor([[0.0071, 0.3369, 0.1014],\n",
            "        [0.7454, 0.9997, 0.3990]], dtype=torch.float64)\n"
          ]
        }
      ]
    },
    {
      "cell_type": "code",
      "source": [
        "print(b + 10.0)\n",
        "print ( )\n",
        "print (torch. sin(b))\n",
        "print ( )\n",
        "print (b. sum())\n",
        "print()\n",
        "print (b.mean())\n",
        "print ( )\n",
        "print (b. shape)"
      ],
      "metadata": {
        "colab": {
          "base_uri": "https://localhost:8080/"
        },
        "id": "EJyi1a8w-v4r",
        "outputId": "fffb6320-0b78-442d-cdd1-049f1b1f6cee"
      },
      "execution_count": 3,
      "outputs": [
        {
          "output_type": "stream",
          "name": "stdout",
          "text": [
            "tensor([[10.0071, 10.3369, 10.1014],\n",
            "        [10.7454, 10.9997, 10.3990]], dtype=torch.float64)\n",
            "\n",
            "tensor([[0.0071, 0.3306, 0.1012],\n",
            "        [0.6783, 0.8413, 0.3885]], dtype=torch.float64)\n",
            "\n",
            "tensor(2.5896, dtype=torch.float64)\n",
            "\n",
            "tensor(0.4316, dtype=torch.float64)\n",
            "\n",
            "torch.Size([2, 3])\n"
          ]
        }
      ]
    },
    {
      "cell_type": "code",
      "source": [
        "torch. cuda. is_available()"
      ],
      "metadata": {
        "colab": {
          "base_uri": "https://localhost:8080/"
        },
        "id": "Mt3zE3Ze-74U",
        "outputId": "fff5f9e4-f2c2-4c86-c34c-bd951baa5f1d"
      },
      "execution_count": 4,
      "outputs": [
        {
          "output_type": "execute_result",
          "data": {
            "text/plain": [
              "True"
            ]
          },
          "metadata": {},
          "execution_count": 4
        }
      ]
    },
    {
      "cell_type": "code",
      "source": [
        "!nvidia-smi"
      ],
      "metadata": {
        "colab": {
          "base_uri": "https://localhost:8080/"
        },
        "id": "H1GgLJuQ--b8",
        "outputId": "65fafa76-63cc-42bf-c582-754d8e08ed07"
      },
      "execution_count": 5,
      "outputs": [
        {
          "output_type": "stream",
          "name": "stdout",
          "text": [
            "Thu Feb 20 15:11:00 2025       \n",
            "+-----------------------------------------------------------------------------------------+\n",
            "| NVIDIA-SMI 550.54.15              Driver Version: 550.54.15      CUDA Version: 12.4     |\n",
            "|-----------------------------------------+------------------------+----------------------+\n",
            "| GPU  Name                 Persistence-M | Bus-Id          Disp.A | Volatile Uncorr. ECC |\n",
            "| Fan  Temp   Perf          Pwr:Usage/Cap |           Memory-Usage | GPU-Util  Compute M. |\n",
            "|                                         |                        |               MIG M. |\n",
            "|=========================================+========================+======================|\n",
            "|   0  Tesla T4                       Off |   00000000:00:04.0 Off |                    0 |\n",
            "| N/A   53C    P8             10W /   70W |       2MiB /  15360MiB |      0%      Default |\n",
            "|                                         |                        |                  N/A |\n",
            "+-----------------------------------------+------------------------+----------------------+\n",
            "                                                                                         \n",
            "+-----------------------------------------------------------------------------------------+\n",
            "| Processes:                                                                              |\n",
            "|  GPU   GI   CI        PID   Type   Process name                              GPU Memory |\n",
            "|        ID   ID                                                               Usage      |\n",
            "|=========================================================================================|\n",
            "|  No running processes found                                                             |\n",
            "+-----------------------------------------------------------------------------------------+\n"
          ]
        }
      ]
    },
    {
      "cell_type": "code",
      "source": [
        "a = torch. rand (1,1, requires_grad=True)\n",
        "b = torch. rand (1,1)\n",
        "y = a + b\n",
        "print(\"a:\", a)\n",
        "print(\"b:\", b)\n",
        "print(\"y:\", y)"
      ],
      "metadata": {
        "colab": {
          "base_uri": "https://localhost:8080/"
        },
        "id": "C5uIA1WR_TRB",
        "outputId": "0b13af9a-f320-4493-9bb4-6ada5c3d51fa"
      },
      "execution_count": 6,
      "outputs": [
        {
          "output_type": "stream",
          "name": "stdout",
          "text": [
            "a: tensor([[0.0354]], requires_grad=True)\n",
            "b: tensor([[0.0401]])\n",
            "y: tensor([[0.0755]], grad_fn=<AddBackward0>)\n"
          ]
        }
      ]
    },
    {
      "cell_type": "code",
      "source": [
        "y.backward()\n",
        "print(\"dy/da:\", a.grad)"
      ],
      "metadata": {
        "colab": {
          "base_uri": "https://localhost:8080/"
        },
        "id": "Ud2SSvLV_rKk",
        "outputId": "8a724709-7943-4d1c-9222-f27c4a6e27be"
      },
      "execution_count": 7,
      "outputs": [
        {
          "output_type": "stream",
          "name": "stdout",
          "text": [
            "dy/da: tensor([[1.]])\n"
          ]
        }
      ]
    },
    {
      "cell_type": "code",
      "source": [
        "a = torch. rand (1,1, requires_grad=True)\n",
        "b = torch. rand (1,1)\n",
        "y = a**2 * b\n",
        "print(\"a:\"\n",
        ", a)\n",
        "print(\"b:\"\n",
        ", b)\n",
        "print(\"y:\", y)\n",
        "y. backward()\n",
        "print (\"dy/da:\"\n",
        ", a. grad)\n",
        "print(\"dy/da:\", 2 * a * b)"
      ],
      "metadata": {
        "colab": {
          "base_uri": "https://localhost:8080/"
        },
        "id": "iIRDnJhn__Wl",
        "outputId": "a347d4f0-2e49-444d-8ec4-8ecfd8e1d865"
      },
      "execution_count": 8,
      "outputs": [
        {
          "output_type": "stream",
          "name": "stdout",
          "text": [
            "a: tensor([[0.8676]], requires_grad=True)\n",
            "b: tensor([[0.6890]])\n",
            "y: tensor([[0.5187]], grad_fn=<MulBackward0>)\n",
            "dy/da: tensor([[1.1956]])\n",
            "dy/da: tensor([[1.1956]], grad_fn=<MulBackward0>)\n"
          ]
        }
      ]
    },
    {
      "cell_type": "code",
      "source": [
        "A = torch. rand (2,2)\n",
        "b = torch. rand (2,1)\n",
        "x = torch. rand (2,1, requires_grad=True)\n",
        "y = torch.matmul(A, x) + b\n",
        "z = y.sum( )\n",
        "print(z)"
      ],
      "metadata": {
        "colab": {
          "base_uri": "https://localhost:8080/"
        },
        "id": "7OViEasVAdrN",
        "outputId": "241f68c1-65bd-45f9-8efc-27edf8be4f64"
      },
      "execution_count": 9,
      "outputs": [
        {
          "output_type": "stream",
          "name": "stdout",
          "text": [
            "tensor(2.0313, grad_fn=<SumBackward0>)\n"
          ]
        }
      ]
    },
    {
      "cell_type": "code",
      "source": [
        "z.backward()"
      ],
      "metadata": {
        "id": "zq34KToYApdy"
      },
      "execution_count": 10,
      "outputs": []
    },
    {
      "cell_type": "code",
      "source": [
        "print(\"dz/dx:\", x.grad)"
      ],
      "metadata": {
        "colab": {
          "base_uri": "https://localhost:8080/"
        },
        "id": "2ppDwumcArup",
        "outputId": "490aae9e-3416-4044-d8cf-ce856502990a"
      },
      "execution_count": 11,
      "outputs": [
        {
          "output_type": "stream",
          "name": "stdout",
          "text": [
            "dz/dx: tensor([[0.7450],\n",
            "        [1.4380]])\n"
          ]
        }
      ]
    },
    {
      "cell_type": "code",
      "source": [
        "device = torch.device(\"cuda\" if torch.cuda.is_available() else \"cpu\")"
      ],
      "metadata": {
        "id": "fjozwc75-BTL"
      },
      "execution_count": 12,
      "outputs": []
    },
    {
      "cell_type": "markdown",
      "source": [
        "Steps to do below:\n",
        "\n",
        "\n",
        "*   Convert images to tensors\n",
        "*   Load the FashionMNIST dataset\n",
        "*   Create DataLoaders for training and testing (using a batch size of 64)\n"
      ],
      "metadata": {
        "id": "9uStBPWryJsO"
      }
    },
    {
      "cell_type": "code",
      "source": [
        "transform = transforms.ToTensor()\n"
      ],
      "metadata": {
        "id": "9RdJuFio_Qwa"
      },
      "execution_count": 13,
      "outputs": []
    },
    {
      "cell_type": "code",
      "source": [
        "train_dataset = torchvision.datasets.FashionMNIST(root='./FashionMNIST', train=True, download=True, transform=transform)\n",
        "test_dataset  = torchvision.datasets.FashionMNIST(root='./FashionMNIST', train=False, download=True, transform=transform)"
      ],
      "metadata": {
        "colab": {
          "base_uri": "https://localhost:8080/"
        },
        "id": "lFWWuBBw_30r",
        "outputId": "167e736e-5ca0-4724-b239-70518b55ed6e"
      },
      "execution_count": 14,
      "outputs": [
        {
          "output_type": "stream",
          "name": "stdout",
          "text": [
            "Downloading http://fashion-mnist.s3-website.eu-central-1.amazonaws.com/train-images-idx3-ubyte.gz\n",
            "Downloading http://fashion-mnist.s3-website.eu-central-1.amazonaws.com/train-images-idx3-ubyte.gz to ./FashionMNIST/FashionMNIST/raw/train-images-idx3-ubyte.gz\n"
          ]
        },
        {
          "output_type": "stream",
          "name": "stderr",
          "text": [
            "100%|██████████| 26.4M/26.4M [00:02<00:00, 11.8MB/s]\n"
          ]
        },
        {
          "output_type": "stream",
          "name": "stdout",
          "text": [
            "Extracting ./FashionMNIST/FashionMNIST/raw/train-images-idx3-ubyte.gz to ./FashionMNIST/FashionMNIST/raw\n",
            "\n",
            "Downloading http://fashion-mnist.s3-website.eu-central-1.amazonaws.com/train-labels-idx1-ubyte.gz\n",
            "Downloading http://fashion-mnist.s3-website.eu-central-1.amazonaws.com/train-labels-idx1-ubyte.gz to ./FashionMNIST/FashionMNIST/raw/train-labels-idx1-ubyte.gz\n"
          ]
        },
        {
          "output_type": "stream",
          "name": "stderr",
          "text": [
            "100%|██████████| 29.5k/29.5k [00:00<00:00, 201kB/s]\n"
          ]
        },
        {
          "output_type": "stream",
          "name": "stdout",
          "text": [
            "Extracting ./FashionMNIST/FashionMNIST/raw/train-labels-idx1-ubyte.gz to ./FashionMNIST/FashionMNIST/raw\n",
            "\n",
            "Downloading http://fashion-mnist.s3-website.eu-central-1.amazonaws.com/t10k-images-idx3-ubyte.gz\n",
            "Downloading http://fashion-mnist.s3-website.eu-central-1.amazonaws.com/t10k-images-idx3-ubyte.gz to ./FashionMNIST/FashionMNIST/raw/t10k-images-idx3-ubyte.gz\n"
          ]
        },
        {
          "output_type": "stream",
          "name": "stderr",
          "text": [
            "100%|██████████| 4.42M/4.42M [00:01<00:00, 3.73MB/s]\n"
          ]
        },
        {
          "output_type": "stream",
          "name": "stdout",
          "text": [
            "Extracting ./FashionMNIST/FashionMNIST/raw/t10k-images-idx3-ubyte.gz to ./FashionMNIST/FashionMNIST/raw\n",
            "\n",
            "Downloading http://fashion-mnist.s3-website.eu-central-1.amazonaws.com/t10k-labels-idx1-ubyte.gz\n",
            "Downloading http://fashion-mnist.s3-website.eu-central-1.amazonaws.com/t10k-labels-idx1-ubyte.gz to ./FashionMNIST/FashionMNIST/raw/t10k-labels-idx1-ubyte.gz\n"
          ]
        },
        {
          "output_type": "stream",
          "name": "stderr",
          "text": [
            "100%|██████████| 5.15k/5.15k [00:00<00:00, 12.6MB/s]"
          ]
        },
        {
          "output_type": "stream",
          "name": "stdout",
          "text": [
            "Extracting ./FashionMNIST/FashionMNIST/raw/t10k-labels-idx1-ubyte.gz to ./FashionMNIST/FashionMNIST/raw\n",
            "\n"
          ]
        },
        {
          "output_type": "stream",
          "name": "stderr",
          "text": [
            "\n"
          ]
        }
      ]
    },
    {
      "cell_type": "code",
      "source": [
        "print(len(train_dataset))\n",
        "print(len(test_dataset))"
      ],
      "metadata": {
        "colab": {
          "base_uri": "https://localhost:8080/"
        },
        "id": "4_fuofBqBvua",
        "outputId": "0e8201b5-c06f-42aa-8b81-006edede2eda"
      },
      "execution_count": 15,
      "outputs": [
        {
          "output_type": "stream",
          "name": "stdout",
          "text": [
            "60000\n",
            "10000\n"
          ]
        }
      ]
    },
    {
      "cell_type": "code",
      "source": [
        "image, label = train_dataset[0]\n",
        "print (image.shape, label)"
      ],
      "metadata": {
        "colab": {
          "base_uri": "https://localhost:8080/"
        },
        "id": "0Ckmnwv1B8GN",
        "outputId": "4fec483e-3315-487f-e76e-9d9431f8ab54"
      },
      "execution_count": 16,
      "outputs": [
        {
          "output_type": "stream",
          "name": "stdout",
          "text": [
            "torch.Size([1, 28, 28]) 9\n"
          ]
        }
      ]
    },
    {
      "cell_type": "code",
      "source": [
        "print(image.squeeze().shape)"
      ],
      "metadata": {
        "colab": {
          "base_uri": "https://localhost:8080/"
        },
        "id": "TJgpnhceCGq2",
        "outputId": "50a1dc6f-6c02-43d3-8f6a-ea6e253df572"
      },
      "execution_count": 17,
      "outputs": [
        {
          "output_type": "stream",
          "name": "stdout",
          "text": [
            "torch.Size([28, 28])\n"
          ]
        }
      ]
    },
    {
      "cell_type": "code",
      "source": [
        "import matplotlib.pyplot as plt\n",
        "%matplotlib inline\n",
        "plt.imshow(image. squeeze(), cmap=plt.cm.gray)"
      ],
      "metadata": {
        "colab": {
          "base_uri": "https://localhost:8080/",
          "height": 448
        },
        "id": "-JDlWMrrCM8N",
        "outputId": "730e3c32-b3bb-40d5-e52a-f6f961035a41"
      },
      "execution_count": 18,
      "outputs": [
        {
          "output_type": "execute_result",
          "data": {
            "text/plain": [
              "<matplotlib.image.AxesImage at 0x784656495090>"
            ]
          },
          "metadata": {},
          "execution_count": 18
        },
        {
          "output_type": "display_data",
          "data": {
            "text/plain": [
              "<Figure size 640x480 with 1 Axes>"
            ],
            "image/png": "[encoded data removed]"
          },
          "metadata": {}
        }
      ]
    },
    {
      "cell_type": "code",
      "source": [
        "batch_size = 64\n",
        "train_loader = torch.utils.data.DataLoader(train_dataset, batch_size=batch_size, shuffle=True)\n",
        "test_loader  = torch.utils.data.DataLoader(test_dataset, batch_size=batch_size, shuffle=False)"
      ],
      "metadata": {
        "id": "9wPb_zHSB6kz"
      },
      "execution_count": 50,
      "outputs": []
    },
    {
      "cell_type": "code",
      "source": [
        "print(len(train_loader))\n",
        "print(len(test_loader))"
      ],
      "metadata": {
        "colab": {
          "base_uri": "https://localhost:8080/"
        },
        "id": "4d1lthHYCm4H",
        "outputId": "7867c1ce-60b2-400f-f0b8-d2eeec400a1d"
      },
      "execution_count": 51,
      "outputs": [
        {
          "output_type": "stream",
          "name": "stdout",
          "text": [
            "938\n",
            "157\n"
          ]
        }
      ]
    },
    {
      "cell_type": "code",
      "source": [
        "print(len(train_loader)*64)\n",
        "print(len(test_loader)*64)"
      ],
      "metadata": {
        "colab": {
          "base_uri": "https://localhost:8080/"
        },
        "id": "1DaCnhqYC0Bs",
        "outputId": "71d8476a-b9b3-4a25-a229-9a5ff189a0c8"
      },
      "execution_count": 52,
      "outputs": [
        {
          "output_type": "stream",
          "name": "stdout",
          "text": [
            "60032\n",
            "10048\n"
          ]
        }
      ]
    },
    {
      "cell_type": "code",
      "source": [
        "images, labels = next(iter(train_loader))\n",
        "print (images.shape, labels.shape)"
      ],
      "metadata": {
        "colab": {
          "base_uri": "https://localhost:8080/"
        },
        "id": "6i0uWa5uC9gf",
        "outputId": "93cd25f1-cc54-4b62-937e-5c4af78253bb"
      },
      "execution_count": 53,
      "outputs": [
        {
          "output_type": "stream",
          "name": "stdout",
          "text": [
            "torch.Size([64, 1, 28, 28]) torch.Size([64])\n"
          ]
        }
      ]
    },
    {
      "cell_type": "code",
      "source": [
        "plt.figure(figsize=(10,4) )\n",
        "for i in range(5):\n",
        "  plt.subplot(1,5, i+1)\n",
        "  plt.title(f'Label: {labels[i].item()}')\n",
        "  plt.imshow(images[i].squeeze(), cmap=plt.cm.gray)"
      ],
      "metadata": {
        "colab": {
          "base_uri": "https://localhost:8080/",
          "height": 216
        },
        "id": "bJseBtwvDWNJ",
        "outputId": "1e40ae44-9342-45f5-c213-968523eae1aa"
      },
      "execution_count": 54,
      "outputs": [
        {
          "output_type": "display_data",
          "data": {
            "text/plain": [
              "<Figure size 1000x400 with 5 Axes>"
            ],
            "image/png": "[encoded data removed]"
          },
          "metadata": {}
        }
      ]
    },
    {
      "cell_type": "markdown",
      "source": [
        "We have to do the following:\n",
        "\n",
        "\n",
        "*   Flatten the 28x28 image to a vector of 784 features\n",
        "*   First hidden layer: 256 neurons\n",
        "*   Second hidden layer: 128 neurons\n",
        "*   Third hidden layer: 64 neurons\n",
        "*   Applying ReLU for each layer\n",
        "*   10 output neurons for 10 classes\n",
        "*   ReLU activation for hidden layers\n",
        "*   Output logits (no softmax here)\n"
      ],
      "metadata": {
        "id": "eJ8Eqr4lDqJW"
      }
    },
    {
      "cell_type": "code",
      "source": [
        "class FashionMNISTModel(nn.Module):\n",
        "    def __init__(self):\n",
        "        super(FashionMNISTModel, self).__init__()\n",
        "        self.flatten = nn.Flatten()\n",
        "        self.fc1 = nn.Linear(28*28, 256)\n",
        "        self.fc2 = nn.Linear(256, 128)\n",
        "        self.fc3 = nn.Linear(128, 64)\n",
        "        self.fc4 = nn.Linear(64, 10)\n",
        "        self.relu = nn.ReLU()\n",
        "        self.dropout = nn.Dropout(0.3)\n",
        "\n",
        "    def forward(self, x):\n",
        "        x = self.flatten(x)\n",
        "        x = self.relu(self.fc1(x))\n",
        "        x = self.dropout(x)\n",
        "        x = self.relu(self.fc2(x))\n",
        "        x = self.dropout(x)\n",
        "        x = self.relu(self.fc3(x))\n",
        "        x = self.dropout(x)\n",
        "        x = self.fc4(x)\n",
        "        return x"
      ],
      "metadata": {
        "id": "T_zVRVNnCYCn"
      },
      "execution_count": 81,
      "outputs": []
    },
    {
      "cell_type": "markdown",
      "source": [
        "**`Logistic regression only applies a linear transformation, meaning it struggles with complex relationships in image data. A neural network with hidden layers allows the model to learn hierarchical features—patterns like edges, textures, and shapes.`**"
      ],
      "metadata": {
        "id": "TXSGhKQvzDcN"
      }
    },
    {
      "cell_type": "markdown",
      "source": [
        "Instantiate the model and move it to the device (GPU if available)"
      ],
      "metadata": {
        "id": "pRIZtK7TGCd8"
      }
    },
    {
      "cell_type": "code",
      "source": [
        "model = FashionMNISTModel().to(device)"
      ],
      "metadata": {
        "id": "OYIPs1X2CXdv"
      },
      "execution_count": 82,
      "outputs": []
    },
    {
      "cell_type": "markdown",
      "source": [
        "Cross-entropy loss for classification:"
      ],
      "metadata": {
        "id": "3AwqV6tyGHZy"
      }
    },
    {
      "cell_type": "code",
      "source": [
        "criterion = nn.CrossEntropyLoss()\n",
        "optimizer = optim.Adam(model.parameters(), lr=0.001, weight_decay=1e-4) # Adam because in deep neural network with multiple hidden layers it is helpful, because it adjusts learning rates automatically for faster convergence"
      ],
      "metadata": {
        "id": "4YfOiBmwCf4G"
      },
      "execution_count": 83,
      "outputs": []
    },
    {
      "cell_type": "code",
      "source": [
        "!nvidia-smi"
      ],
      "metadata": {
        "colab": {
          "base_uri": "https://localhost:8080/"
        },
        "id": "5Clo43XOGN4a",
        "outputId": "eba173ec-785a-4d5f-d791-454c893930dd"
      },
      "execution_count": 84,
      "outputs": [
        {
          "output_type": "stream",
          "name": "stdout",
          "text": [
            "Thu Feb 20 15:43:57 2025       \n",
            "+-----------------------------------------------------------------------------------------+\n",
            "| NVIDIA-SMI 550.54.15              Driver Version: 550.54.15      CUDA Version: 12.4     |\n",
            "|-----------------------------------------+------------------------+----------------------+\n",
            "| GPU  Name                 Persistence-M | Bus-Id          Disp.A | Volatile Uncorr. ECC |\n",
            "| Fan  Temp   Perf          Pwr:Usage/Cap |           Memory-Usage | GPU-Util  Compute M. |\n",
            "|                                         |                        |               MIG M. |\n",
            "|=========================================+========================+======================|\n",
            "|   0  Tesla T4                       Off |   00000000:00:04.0 Off |                    0 |\n",
            "| N/A   77C    P0             31W /   70W |     164MiB /  15360MiB |      0%      Default |\n",
            "|                                         |                        |                  N/A |\n",
            "+-----------------------------------------+------------------------+----------------------+\n",
            "                                                                                         \n",
            "+-----------------------------------------------------------------------------------------+\n",
            "| Processes:                                                                              |\n",
            "|  GPU   GI   CI        PID   Type   Process name                              GPU Memory |\n",
            "|        ID   ID                                                               Usage      |\n",
            "|=========================================================================================|\n",
            "+-----------------------------------------------------------------------------------------+\n"
          ]
        }
      ]
    },
    {
      "cell_type": "markdown",
      "source": [
        "Training settings"
      ],
      "metadata": {
        "id": "dmLKxMtnGmKA"
      }
    },
    {
      "cell_type": "code",
      "source": [
        "num_epochs = 20\n",
        "train_loss_history = []\n",
        "test_loss_history = []"
      ],
      "metadata": {
        "id": "mPYEwQhICizs"
      },
      "execution_count": 85,
      "outputs": []
    },
    {
      "cell_type": "markdown",
      "source": [
        "Training the Model and Computing Train & Test Loss Curves"
      ],
      "metadata": {
        "id": "_6-N11LgGo2y"
      }
    },
    {
      "cell_type": "code",
      "source": [
        "for epoch in range(num_epochs):\n",
        "    model.train()\n",
        "    running_loss = 0.0\n",
        "    for images, labels in train_loader:\n",
        "        images, labels = images.to(device), labels.to(device)\n",
        "\n",
        "        optimizer.zero_grad()\n",
        "        outputs = model(images)         # Forward pass\n",
        "        loss = criterion(outputs, labels)\n",
        "        loss.backward()                 # Backward pass (compute gradients)\n",
        "        optimizer.step()                # Update the weights\n",
        "\n",
        "        running_loss += loss.item() * images.size(0)\n",
        "\n",
        "    epoch_train_loss = running_loss / len(train_loader.dataset)\n",
        "    train_loss_history.append(epoch_train_loss)\n",
        "\n",
        "    # Evaluate on the test set\n",
        "    model.eval()  # Set model to evaluation mode\n",
        "    test_loss = 0.0\n",
        "    correct = 0\n",
        "    total = 0\n",
        "    with torch.no_grad():\n",
        "        for images, labels in test_loader:\n",
        "            images, labels = images.to(device), labels.to(device)\n",
        "            outputs = model(images)\n",
        "            loss = criterion(outputs, labels)\n",
        "            test_loss += loss.item() * images.size(0)\n",
        "\n",
        "            _, predicted = torch.max(outputs, 1)\n",
        "            total += labels.size(0)\n",
        "            correct += (predicted == labels).sum().item()\n",
        "\n",
        "    epoch_test_loss = test_loss / len(test_loader.dataset)\n",
        "    test_loss_history.append(epoch_test_loss)\n",
        "    accuracy = 100 * correct / total\n",
        "\n",
        "    print(f\"Epoch [{epoch+1}/{num_epochs}], Train Loss: {epoch_train_loss:.4f}, Test Loss: {epoch_test_loss:.4f}, Test Accuracy: {accuracy:.2f}%\")"
      ],
      "metadata": {
        "colab": {
          "base_uri": "https://localhost:8080/"
        },
        "id": "4F1Y_XUwClqp",
        "outputId": "ff73002d-3c06-4114-db17-d78c0b5835ba"
      },
      "execution_count": 86,
      "outputs": [
        {
          "output_type": "stream",
          "name": "stdout",
          "text": [
            "Epoch [1/20], Train Loss: 0.6816, Test Loss: 0.4550, Test Accuracy: 83.53%\n",
            "Epoch [2/20], Train Loss: 0.4603, Test Loss: 0.4110, Test Accuracy: 85.24%\n",
            "Epoch [3/20], Train Loss: 0.4192, Test Loss: 0.3943, Test Accuracy: 85.79%\n",
            "Epoch [4/20], Train Loss: 0.3967, Test Loss: 0.3857, Test Accuracy: 86.21%\n",
            "Epoch [5/20], Train Loss: 0.3868, Test Loss: 0.3678, Test Accuracy: 86.71%\n",
            "Epoch [6/20], Train Loss: 0.3739, Test Loss: 0.3564, Test Accuracy: 87.24%\n",
            "Epoch [7/20], Train Loss: 0.3658, Test Loss: 0.3698, Test Accuracy: 86.50%\n",
            "Epoch [8/20], Train Loss: 0.3538, Test Loss: 0.3555, Test Accuracy: 87.09%\n",
            "Epoch [9/20], Train Loss: 0.3517, Test Loss: 0.3569, Test Accuracy: 87.17%\n",
            "Epoch [10/20], Train Loss: 0.3468, Test Loss: 0.3517, Test Accuracy: 87.20%\n",
            "Epoch [11/20], Train Loss: 0.3389, Test Loss: 0.3624, Test Accuracy: 86.68%\n",
            "Epoch [12/20], Train Loss: 0.3372, Test Loss: 0.3367, Test Accuracy: 87.41%\n",
            "Epoch [13/20], Train Loss: 0.3312, Test Loss: 0.3351, Test Accuracy: 87.62%\n",
            "Epoch [14/20], Train Loss: 0.3314, Test Loss: 0.3503, Test Accuracy: 87.23%\n",
            "Epoch [15/20], Train Loss: 0.3275, Test Loss: 0.3462, Test Accuracy: 87.55%\n",
            "Epoch [16/20], Train Loss: 0.3223, Test Loss: 0.3373, Test Accuracy: 87.59%\n",
            "Epoch [17/20], Train Loss: 0.3215, Test Loss: 0.3368, Test Accuracy: 88.00%\n",
            "Epoch [18/20], Train Loss: 0.3192, Test Loss: 0.3289, Test Accuracy: 88.29%\n",
            "Epoch [19/20], Train Loss: 0.3189, Test Loss: 0.3337, Test Accuracy: 88.31%\n",
            "Epoch [20/20], Train Loss: 0.3179, Test Loss: 0.3302, Test Accuracy: 88.17%\n"
          ]
        }
      ]
    },
    {
      "cell_type": "markdown",
      "source": [
        "Plot the training and test loss curves"
      ],
      "metadata": {
        "id": "aMvFuT2bHsWY"
      }
    },
    {
      "cell_type": "code",
      "source": [
        "plt.figure(figsize=(10,5))\n",
        "plt.plot(range(1, num_epochs+1), train_loss_history, label='Train Loss')\n",
        "plt.plot(range(1, num_epochs+1), test_loss_history, label='Test Loss')\n",
        "plt.xlabel('Epoch')\n",
        "plt.ylabel('Loss')\n",
        "plt.title('Training and Test Loss Curves')\n",
        "plt.legend()\n",
        "plt.show()"
      ],
      "metadata": {
        "colab": {
          "base_uri": "https://localhost:8080/",
          "height": 487
        },
        "id": "fBUkczbDC4_-",
        "outputId": "8f7ee6e0-24f4-4d9c-b579-ca16e8fba755"
      },
      "execution_count": 87,
      "outputs": [
        {
          "output_type": "display_data",
          "data": {
            "text/plain": [
              "<Figure size 1000x500 with 1 Axes>"
            ],
            "image/png": "[encoded data removed]"
          },
          "metadata": {}
        }
      ]
    },
    {
      "cell_type": "markdown",
      "source": [
        "**`From the plot we see that the train loss decreases and the test loss stays low, meaning the model is learning well.`**"
      ],
      "metadata": {
        "id": "P4XPuxouzfs6"
      }
    },
    {
      "cell_type": "code",
      "source": [
        "print(images.shape, labels.shape)"
      ],
      "metadata": {
        "colab": {
          "base_uri": "https://localhost:8080/"
        },
        "id": "LI1-AK9TI6Sn",
        "outputId": "82ec88ba-c9cd-4366-9431-3963f20a16d7"
      },
      "execution_count": 88,
      "outputs": [
        {
          "output_type": "stream",
          "name": "stdout",
          "text": [
            "torch.Size([16, 1, 28, 28]) torch.Size([16])\n"
          ]
        }
      ]
    },
    {
      "cell_type": "markdown",
      "source": [
        "\n",
        "\n",
        "*   Visualize predictions on 3 random test samples\n",
        "*   Get one batch of test images\n",
        "*   Convert logits to probabilities\n",
        "\n",
        "\n",
        "\n"
      ],
      "metadata": {
        "id": "Y3wCcrS4H38e"
      }
    },
    {
      "cell_type": "code",
      "source": [
        "images, labels = next(iter(test_loader))\n",
        "images, labels = images.to(device), labels.to(device)\n",
        "outputs = model(images)\n",
        "probs = torch.softmax(outputs, dim=1)"
      ],
      "metadata": {
        "id": "IQ4Oj40eDItu"
      },
      "execution_count": 89,
      "outputs": []
    },
    {
      "cell_type": "code",
      "source": [
        "print(outputs.shape)"
      ],
      "metadata": {
        "colab": {
          "base_uri": "https://localhost:8080/"
        },
        "id": "UXhdimq1JB0C",
        "outputId": "dc3fb7a2-0371-4d38-f8ee-b2f6f36f2238"
      },
      "execution_count": 90,
      "outputs": [
        {
          "output_type": "stream",
          "name": "stdout",
          "text": [
            "torch.Size([64, 10])\n"
          ]
        }
      ]
    },
    {
      "cell_type": "code",
      "source": [
        "predicted_labels = torch.max(outputs, 1)[1]\n",
        "print (\"Predicted:\", predicted_labels)\n",
        "print(\"True Labels:\", labels)"
      ],
      "metadata": {
        "colab": {
          "base_uri": "https://localhost:8080/"
        },
        "id": "tGlCJggJJRSy",
        "outputId": "b83cc024-dc77-450c-8c5d-4baf9fa8ecd5"
      },
      "execution_count": 91,
      "outputs": [
        {
          "output_type": "stream",
          "name": "stdout",
          "text": [
            "Predicted: tensor([9, 2, 1, 1, 6, 1, 4, 6, 5, 7, 4, 5, 7, 3, 4, 1, 2, 4, 8, 0, 2, 7, 7, 5,\n",
            "        1, 2, 6, 0, 9, 3, 8, 8, 3, 3, 8, 0, 7, 5, 7, 9, 0, 1, 6, 7, 6, 7, 2, 1,\n",
            "        2, 6, 4, 2, 5, 8, 2, 2, 8, 4, 8, 0, 7, 7, 8, 5], device='cuda:0')\n",
            "True Labels: tensor([9, 2, 1, 1, 6, 1, 4, 6, 5, 7, 4, 5, 7, 3, 4, 1, 2, 4, 8, 0, 2, 5, 7, 9,\n",
            "        1, 4, 6, 0, 9, 3, 8, 8, 3, 3, 8, 0, 7, 5, 7, 9, 6, 1, 3, 7, 6, 7, 2, 1,\n",
            "        2, 2, 4, 4, 5, 8, 2, 2, 8, 4, 8, 0, 7, 7, 8, 5], device='cuda:0')\n"
          ]
        }
      ]
    },
    {
      "cell_type": "code",
      "source": [
        "plt.imshow(images[1].squeeze().cpu(), cmap=plt.cm.gray)\n",
        "plt.title(f'Pred: {predicted_labels[12].item()}, True: {labels[12].item()}')"
      ],
      "metadata": {
        "colab": {
          "base_uri": "https://localhost:8080/",
          "height": 470
        },
        "id": "xDM2OM0rJwlA",
        "outputId": "3bdf7fe0-c42c-4132-936a-fdcf2c9deedf"
      },
      "execution_count": 92,
      "outputs": [
        {
          "output_type": "execute_result",
          "data": {
            "text/plain": [
              "Text(0.5, 1.0, 'Pred: 7, True: 7')"
            ]
          },
          "metadata": {},
          "execution_count": 92
        },
        {
          "output_type": "display_data",
          "data": {
            "text/plain": [
              "<Figure size 640x480 with 1 Axes>"
            ],
            "image/png": "[encoded data removed]"
          },
          "metadata": {}
        }
      ]
    },
    {
      "cell_type": "markdown",
      "source": [
        "Randomly select 3 indices from this batch"
      ],
      "metadata": {
        "id": "xLm6LAvaIF9f"
      }
    },
    {
      "cell_type": "code",
      "source": [
        "indices = np.random.choice(range(images.shape[0]), 3, replace=False)"
      ],
      "metadata": {
        "id": "mzgrSuHwDLOW"
      },
      "execution_count": 93,
      "outputs": []
    },
    {
      "cell_type": "markdown",
      "source": [
        "Plot each selected image with its predicted class probabilities\n"
      ],
      "metadata": {
        "id": "x9-2eY8sId7X"
      }
    },
    {
      "cell_type": "code",
      "source": [
        "for idx in indices:\n",
        "    img = images[idx].cpu().squeeze()\n",
        "    prob = probs[idx].detach().cpu().numpy()\n",
        "    predicted_class = np.argmax(prob)\n",
        "\n",
        "    plt.figure(figsize=(12,4))\n",
        "\n",
        "    plt.subplot(1,2,1)\n",
        "    plt.imshow(img, cmap='gray')\n",
        "    plt.title(f\"True Label: {labels[idx].item()}, Predicted: {predicted_class}\")\n",
        "    plt.axis('off')\n",
        "\n",
        "    plt.subplot(1,2,2)\n",
        "    plt.bar(range(10), prob)\n",
        "    plt.xlabel('Class')\n",
        "    plt.ylabel('Probability')\n",
        "    plt.title('Predicted Class Probabilities')\n",
        "    plt.show()"
      ],
      "metadata": {
        "colab": {
          "base_uri": "https://localhost:8080/",
          "height": 1000
        },
        "id": "mTr0pqY0DOhk",
        "outputId": "f05c1a80-fb65-46e5-d9d6-9b1b1e13ee80"
      },
      "execution_count": 94,
      "outputs": [
        {
          "output_type": "display_data",
          "data": {
            "text/plain": [
              "<Figure size 1200x400 with 2 Axes>"
            ],
            "image/png": "[encoded data removed]"
          },
          "metadata": {}
        },
        {
          "output_type": "display_data",
          "data": {
            "text/plain": [
              "<Figure size 1200x400 with 2 Axes>"
            ],
            "image/png": "[encoded data removed]"
          },
          "metadata": {}
        },
        {
          "output_type": "display_data",
          "data": {
            "text/plain": [
              "<Figure size 1200x400 with 2 Axes>"
            ],
            "image/png": "[encoded data removed]"
          },
          "metadata": {}
        }
      ]
    },
    {
      "cell_type": "markdown",
      "source": [
        "**`The model is very confident with its predictions, but with a few misclassifications.`**"
      ],
      "metadata": {
        "id": "AUyP2ebkz0_9"
      }
    },
    {
      "cell_type": "code",
      "source": [],
      "metadata": {
        "id": "jix0QXR1z__r"
      },
      "execution_count": 94,
      "outputs": []
    }
  ]
}